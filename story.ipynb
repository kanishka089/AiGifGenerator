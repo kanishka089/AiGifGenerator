{
 "cells": [
  {
   "cell_type": "code",
   "execution_count": 13,
   "id": "1d67fde4",
   "metadata": {
    "collapsed": true
   },
   "outputs": [
    {
     "name": "stdout",
     "output_type": "stream",
     "text": [
      "Defaulting to user installation because normal site-packages is not writeable\n",
      "Requirement already satisfied: opencv-python in c:\\users\\msi\\appdata\\roaming\\python\\python39\\site-packages (4.10.0.84)\n",
      "Requirement already satisfied: transformers in c:\\users\\msi\\appdata\\roaming\\python\\python39\\site-packages (4.44.0)\n",
      "Requirement already satisfied: diffusers in c:\\users\\msi\\appdata\\roaming\\python\\python39\\site-packages (0.30.0)\n",
      "Requirement already satisfied: torch in c:\\users\\msi\\appdata\\roaming\\python\\python39\\site-packages (2.4.0+cu124)\n",
      "Requirement already satisfied: accelerate in c:\\users\\msi\\appdata\\roaming\\python\\python39\\site-packages (0.33.0)\n",
      "Requirement already satisfied: sentencepiece in c:\\users\\msi\\appdata\\roaming\\python\\python39\\site-packages (0.2.0)\n",
      "Requirement already satisfied: torchvision in c:\\users\\msi\\appdata\\roaming\\python\\python39\\site-packages (0.19.0+cu124)\n",
      "Requirement already satisfied: torchaudio in c:\\users\\msi\\appdata\\roaming\\python\\python39\\site-packages (2.4.0+cu124)\n",
      "Requirement already satisfied: peft in c:\\users\\msi\\appdata\\roaming\\python\\python39\\site-packages (0.12.0)\n",
      "Requirement already satisfied: pillow in c:\\programdata\\anaconda3\\lib\\site-packages (9.0.1)\n",
      "Collecting pillow\n",
      "  Downloading pillow-10.4.0-cp39-cp39-win_amd64.whl (2.6 MB)\n",
      "Requirement already satisfied: gradio in c:\\users\\msi\\appdata\\roaming\\python\\python39\\site-packages (4.40.0)\n",
      "Requirement already satisfied: numpy>=1.17.0 in c:\\users\\msi\\appdata\\roaming\\python\\python39\\site-packages (from opencv-python) (1.26.4)\n",
      "Requirement already satisfied: huggingface-hub<1.0,>=0.23.2 in c:\\users\\msi\\appdata\\roaming\\python\\python39\\site-packages (from transformers) (0.24.5)\n",
      "Requirement already satisfied: packaging>=20.0 in c:\\programdata\\anaconda3\\lib\\site-packages (from transformers) (21.3)\n",
      "Requirement already satisfied: regex!=2019.12.17 in c:\\programdata\\anaconda3\\lib\\site-packages (from transformers) (2022.3.15)\n",
      "Requirement already satisfied: requests in c:\\users\\msi\\appdata\\roaming\\python\\python39\\site-packages (from transformers) (2.32.3)\n",
      "Requirement already satisfied: safetensors>=0.4.1 in c:\\users\\msi\\appdata\\roaming\\python\\python39\\site-packages (from transformers) (0.4.4)\n",
      "Requirement already satisfied: tqdm>=4.27 in c:\\programdata\\anaconda3\\lib\\site-packages (from transformers) (4.64.0)\n",
      "Requirement already satisfied: tokenizers<0.20,>=0.19 in c:\\users\\msi\\appdata\\roaming\\python\\python39\\site-packages (from transformers) (0.19.1)\n",
      "Requirement already satisfied: filelock in c:\\programdata\\anaconda3\\lib\\site-packages (from transformers) (3.6.0)\n",
      "Requirement already satisfied: pyyaml>=5.1 in c:\\programdata\\anaconda3\\lib\\site-packages (from transformers) (6.0)\n",
      "Requirement already satisfied: importlib-metadata in c:\\programdata\\anaconda3\\lib\\site-packages (from diffusers) (4.11.3)\n",
      "Requirement already satisfied: networkx in c:\\programdata\\anaconda3\\lib\\site-packages (from torch) (2.7.1)\n",
      "Requirement already satisfied: jinja2 in c:\\programdata\\anaconda3\\lib\\site-packages (from torch) (2.11.3)\n",
      "Requirement already satisfied: fsspec in c:\\users\\msi\\appdata\\roaming\\python\\python39\\site-packages (from torch) (2024.6.1)\n",
      "Requirement already satisfied: typing-extensions>=4.8.0 in c:\\users\\msi\\appdata\\roaming\\python\\python39\\site-packages (from torch) (4.12.2)\n",
      "Requirement already satisfied: sympy in c:\\programdata\\anaconda3\\lib\\site-packages (from torch) (1.10.1)\n",
      "Requirement already satisfied: psutil in c:\\programdata\\anaconda3\\lib\\site-packages (from accelerate) (5.8.0)\n",
      "Requirement already satisfied: ruff>=0.2.2 in c:\\users\\msi\\appdata\\roaming\\python\\python39\\site-packages (from gradio) (0.5.6)\n",
      "Requirement already satisfied: tomlkit==0.12.0 in c:\\users\\msi\\appdata\\roaming\\python\\python39\\site-packages (from gradio) (0.12.0)\n",
      "Requirement already satisfied: aiofiles<24.0,>=22.0 in c:\\users\\msi\\appdata\\roaming\\python\\python39\\site-packages (from gradio) (23.2.1)\n",
      "Requirement already satisfied: ffmpy in c:\\users\\msi\\appdata\\roaming\\python\\python39\\site-packages (from gradio) (0.4.0)\n",
      "Requirement already satisfied: typer<1.0,>=0.12 in c:\\users\\msi\\appdata\\roaming\\python\\python39\\site-packages (from gradio) (0.12.3)\n",
      "Requirement already satisfied: pydantic>=2.0 in c:\\users\\msi\\appdata\\roaming\\python\\python39\\site-packages (from gradio) (2.8.2)\n",
      "Requirement already satisfied: httpx>=0.24.1 in c:\\users\\msi\\appdata\\roaming\\python\\python39\\site-packages (from gradio) (0.27.0)\n",
      "Requirement already satisfied: gradio-client==1.2.0 in c:\\users\\msi\\appdata\\roaming\\python\\python39\\site-packages (from gradio) (1.2.0)\n",
      "Requirement already satisfied: anyio<5.0,>=3.0 in c:\\programdata\\anaconda3\\lib\\site-packages (from gradio) (3.5.0)\n",
      "Requirement already satisfied: matplotlib~=3.0 in c:\\programdata\\anaconda3\\lib\\site-packages (from gradio) (3.5.1)\n",
      "Requirement already satisfied: uvicorn>=0.14.0 in c:\\users\\msi\\appdata\\roaming\\python\\python39\\site-packages (from gradio) (0.30.5)\n",
      "Requirement already satisfied: orjson~=3.0 in c:\\users\\msi\\appdata\\roaming\\python\\python39\\site-packages (from gradio) (3.10.6)\n",
      "Requirement already satisfied: fastapi in c:\\users\\msi\\appdata\\roaming\\python\\python39\\site-packages (from gradio) (0.112.0)\n",
      "Requirement already satisfied: urllib3~=2.0 in c:\\users\\msi\\appdata\\roaming\\python\\python39\\site-packages (from gradio) (2.2.2)\n",
      "Requirement already satisfied: importlib-resources<7.0,>=1.3 in c:\\users\\msi\\appdata\\roaming\\python\\python39\\site-packages (from gradio) (6.4.0)\n",
      "Requirement already satisfied: pandas<3.0,>=1.0 in c:\\programdata\\anaconda3\\lib\\site-packages (from gradio) (1.4.2)\n",
      "Requirement already satisfied: pydub in c:\\users\\msi\\appdata\\roaming\\python\\python39\\site-packages (from gradio) (0.25.1)\n",
      "Requirement already satisfied: semantic-version~=2.0 in c:\\users\\msi\\appdata\\roaming\\python\\python39\\site-packages (from gradio) (2.10.0)\n",
      "Requirement already satisfied: python-multipart>=0.0.9 in c:\\users\\msi\\appdata\\roaming\\python\\python39\\site-packages (from gradio) (0.0.9)\n",
      "Requirement already satisfied: markupsafe~=2.0 in c:\\programdata\\anaconda3\\lib\\site-packages (from gradio) (2.0.1)\n",
      "Requirement already satisfied: websockets<13.0,>=10.0 in c:\\users\\msi\\appdata\\roaming\\python\\python39\\site-packages (from gradio-client==1.2.0->gradio) (12.0)\n",
      "Requirement already satisfied: sniffio>=1.1 in c:\\programdata\\anaconda3\\lib\\site-packages (from anyio<5.0,>=3.0->gradio) (1.2.0)\n",
      "Requirement already satisfied: idna>=2.8 in c:\\programdata\\anaconda3\\lib\\site-packages (from anyio<5.0,>=3.0->gradio) (3.3)\n",
      "Requirement already satisfied: httpcore==1.* in c:\\users\\msi\\appdata\\roaming\\python\\python39\\site-packages (from httpx>=0.24.1->gradio) (1.0.5)\n",
      "Requirement already satisfied: certifi in c:\\programdata\\anaconda3\\lib\\site-packages (from httpx>=0.24.1->gradio) (2021.10.8)\n",
      "Requirement already satisfied: h11<0.15,>=0.13 in c:\\users\\msi\\appdata\\roaming\\python\\python39\\site-packages (from httpcore==1.*->httpx>=0.24.1->gradio) (0.14.0)\n",
      "Requirement already satisfied: zipp>=3.1.0 in c:\\programdata\\anaconda3\\lib\\site-packages (from importlib-resources<7.0,>=1.3->gradio) (3.7.0)\n",
      "Requirement already satisfied: python-dateutil>=2.7 in c:\\programdata\\anaconda3\\lib\\site-packages (from matplotlib~=3.0->gradio) (2.8.2)\n",
      "Requirement already satisfied: fonttools>=4.22.0 in c:\\programdata\\anaconda3\\lib\\site-packages (from matplotlib~=3.0->gradio) (4.25.0)\n",
      "Requirement already satisfied: cycler>=0.10 in c:\\programdata\\anaconda3\\lib\\site-packages (from matplotlib~=3.0->gradio) (0.11.0)\n",
      "Requirement already satisfied: kiwisolver>=1.0.1 in c:\\programdata\\anaconda3\\lib\\site-packages (from matplotlib~=3.0->gradio) (1.3.2)\n",
      "Requirement already satisfied: pyparsing>=2.2.1 in c:\\programdata\\anaconda3\\lib\\site-packages (from matplotlib~=3.0->gradio) (3.0.4)\n",
      "Requirement already satisfied: pytz>=2020.1 in c:\\programdata\\anaconda3\\lib\\site-packages (from pandas<3.0,>=1.0->gradio) (2021.3)\n",
      "Requirement already satisfied: annotated-types>=0.4.0 in c:\\users\\msi\\appdata\\roaming\\python\\python39\\site-packages (from pydantic>=2.0->gradio) (0.7.0)\n",
      "Requirement already satisfied: pydantic-core==2.20.1 in c:\\users\\msi\\appdata\\roaming\\python\\python39\\site-packages (from pydantic>=2.0->gradio) (2.20.1)\n",
      "Requirement already satisfied: six>=1.5 in c:\\programdata\\anaconda3\\lib\\site-packages (from python-dateutil>=2.7->matplotlib~=3.0->gradio) (1.16.0)\n",
      "Requirement already satisfied: colorama in c:\\programdata\\anaconda3\\lib\\site-packages (from tqdm>=4.27->transformers) (0.4.4)\n",
      "Requirement already satisfied: rich>=10.11.0 in c:\\users\\msi\\appdata\\roaming\\python\\python39\\site-packages (from typer<1.0,>=0.12->gradio) (13.7.1)\n",
      "Requirement already satisfied: shellingham>=1.3.0 in c:\\users\\msi\\appdata\\roaming\\python\\python39\\site-packages (from typer<1.0,>=0.12->gradio) (1.5.4)\n",
      "Requirement already satisfied: click>=8.0.0 in c:\\programdata\\anaconda3\\lib\\site-packages (from typer<1.0,>=0.12->gradio) (8.0.4)Note: you may need to restart the kernel to use updated packages.\n",
      "Requirement already satisfied: markdown-it-py>=2.2.0 in c:\\users\\msi\\appdata\\roaming\\python\\python39\\site-packages (from rich>=10.11.0->typer<1.0,>=0.12->gradio) (3.0.0)\n",
      "\n"
     ]
    },
    {
     "name": "stdout",
     "output_type": "stream",
     "text": [
      "Requirement already satisfied: pygments<3.0.0,>=2.13.0 in c:\\users\\msi\\appdata\\roaming\\python\\python39\\site-packages (from rich>=10.11.0->typer<1.0,>=0.12->gradio) (2.18.0)\n",
      "Requirement already satisfied: mdurl~=0.1 in c:\\users\\msi\\appdata\\roaming\\python\\python39\\site-packages (from markdown-it-py>=2.2.0->rich>=10.11.0->typer<1.0,>=0.12->gradio) (0.1.2)\n",
      "Requirement already satisfied: starlette<0.38.0,>=0.37.2 in c:\\users\\msi\\appdata\\roaming\\python\\python39\\site-packages (from fastapi->gradio) (0.37.2)\n",
      "Requirement already satisfied: charset-normalizer<4,>=2 in c:\\programdata\\anaconda3\\lib\\site-packages (from requests->transformers) (2.0.4)\n",
      "Requirement already satisfied: mpmath>=0.19 in c:\\programdata\\anaconda3\\lib\\site-packages (from sympy->torch) (1.2.1)\n",
      "Installing collected packages: pillow\n",
      "Successfully installed pillow-10.4.0\n"
     ]
    }
   ],
   "source": [
    "pip install --upgrade opencv-python transformers diffusers torch accelerate sentencepiece torch torchvision torchaudio peft pillow gradio"
   ]
  },
  {
   "cell_type": "code",
   "execution_count": 20,
   "id": "660228aa",
   "metadata": {},
   "outputs": [
    {
     "data": {
      "application/vnd.jupyter.widget-view+json": {
       "model_id": "df0bcf152c6748d9ae56e7c669d55ce8",
       "version_major": 2,
       "version_minor": 0
      },
      "text/plain": [
       "Loading pipeline components...:   0%|          | 0/6 [00:00<?, ?it/s]"
      ]
     },
     "metadata": {},
     "output_type": "display_data"
    },
    {
     "name": "stderr",
     "output_type": "stream",
     "text": [
      "C:\\Users\\MSI\\AppData\\Roaming\\Python\\Python39\\site-packages\\transformers\\models\\clip\\feature_extraction_clip.py:28: FutureWarning: The class CLIPFeatureExtractor is deprecated and will be removed in version 5 of Transformers. Please use CLIPImageProcessor instead.\n",
      "  warnings.warn(\n"
     ]
    },
    {
     "name": "stdout",
     "output_type": "stream",
     "text": [
      "Running on local URL:  http://127.0.0.1:7869\n",
      "\n",
      "To create a public link, set `share=True` in `launch()`.\n"
     ]
    },
    {
     "data": {
      "text/html": [
       "<div><iframe src=\"http://127.0.0.1:7869/\" width=\"100%\" height=\"500\" allow=\"autoplay; camera; microphone; clipboard-read; clipboard-write;\" frameborder=\"0\" allowfullscreen></iframe></div>"
      ],
      "text/plain": [
       "<IPython.core.display.HTML object>"
      ]
     },
     "metadata": {},
     "output_type": "display_data"
    },
    {
     "data": {
      "text/plain": []
     },
     "execution_count": 20,
     "metadata": {},
     "output_type": "execute_result"
    },
    {
     "data": {
      "application/vnd.jupyter.widget-view+json": {
       "model_id": "c88ef78e3fa84b969c50f0b18ca37be3",
       "version_major": 2,
       "version_minor": 0
      },
      "text/plain": [
       "  0%|          | 0/6 [00:00<?, ?it/s]"
      ]
     },
     "metadata": {},
     "output_type": "display_data"
    }
   ],
   "source": [
    "import torch\n",
    "from diffusers import AnimateDiffPipeline, LCMScheduler, MotionAdapter\n",
    "from diffusers.utils import export_to_gif\n",
    "import os\n",
    "import gc\n",
    "import gradio as gr\n",
    "\n",
    "# Environment setup\n",
    "os.environ['PYTORCH_CUDA_ALLOC_CONF'] = 'expandable_segments:True'\n",
    "gc.collect()\n",
    "torch.cuda.empty_cache()\n",
    "gc.collect()\n",
    "torch.cuda.empty_cache()\n",
    "\n",
    "# Load models and pipeline\n",
    "adapter = MotionAdapter.from_pretrained(\"wangfuyun/AnimateLCM\", torch_dtype=torch.float16)\n",
    "pipe = AnimateDiffPipeline.from_pretrained(\"emilianJR/epiCRealism\", motion_adapter=adapter, torch_dtype=torch.float16)\n",
    "pipe.scheduler = LCMScheduler.from_config(pipe.scheduler.config, beta_schedule=\"linear\")\n",
    "pipe.load_lora_weights(\"wangfuyun/AnimateLCM\", weight_name=\"AnimateLCM_sd15_t2v_lora.safetensors\", adapter_name=\"lcm-lora\")\n",
    "pipe.set_adapters([\"lcm-lora\"], [0.8])\n",
    "pipe.enable_vae_slicing()\n",
    "pipe.enable_model_cpu_offload()\n",
    "\n",
    "# Hardcoded predefined prompts\n",
    "predefined_prompts = [\n",
    "    \"640*480 pixels, high resolution, ultra realistic\",\n",
    "    \"bad quality, worse quality, low resolution\"\n",
    "]\n",
    "\n",
    "def generate_gif(custom_prompt):\n",
    "    # Combine the predefined prompts with the custom prompt\n",
    "    prompt = custom_prompt + \", \" + predefined_prompts[0]\n",
    "    negative_prompt = predefined_prompts[1]\n",
    "    \n",
    "    output = pipe(\n",
    "        prompt=prompt,\n",
    "        negative_prompt=negative_prompt,\n",
    "        num_frames=32,\n",
    "        guidance_scale=2.0,\n",
    "        num_inference_steps=6,\n",
    "        generator=torch.Generator(\"cuda\").manual_seed(0),\n",
    "    )\n",
    "    frames = output.frames[0]\n",
    "    export_to_gif(frames, \"animatelcm.gif\")\n",
    "    return \"animatelcm.gif\"\n",
    "\n",
    "# Create Gradio interface\n",
    "with gr.Blocks() as demo:\n",
    "    gr.Markdown(\"## Animate LCM GIF Generator\")\n",
    "    custom_prompt_input = gr.Textbox(label=\"Custom Prompt\", placeholder=\"Enter your custom prompt here...\")\n",
    "    output_gif = gr.Image(label=\"Generated GIF\")\n",
    "    generate_button = gr.Button(\"Generate GIF\")\n",
    "    \n",
    "    generate_button.click(fn=generate_gif, inputs=custom_prompt_input, outputs=output_gif)\n",
    "\n",
    "# Launch the interface\n",
    "demo.launch()\n"
   ]
  },
  {
   "cell_type": "code",
   "execution_count": null,
   "id": "5d4339ee",
   "metadata": {},
   "outputs": [],
   "source": []
  }
 ],
 "metadata": {
  "kernelspec": {
   "display_name": "Python 3 (ipykernel)",
   "language": "python",
   "name": "python3"
  },
  "language_info": {
   "codemirror_mode": {
    "name": "ipython",
    "version": 3
   },
   "file_extension": ".py",
   "mimetype": "text/x-python",
   "name": "python",
   "nbconvert_exporter": "python",
   "pygments_lexer": "ipython3",
   "version": "3.9.12"
  }
 },
 "nbformat": 4,
 "nbformat_minor": 5
}
